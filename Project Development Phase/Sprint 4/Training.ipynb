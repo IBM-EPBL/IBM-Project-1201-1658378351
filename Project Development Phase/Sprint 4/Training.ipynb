{
 "cells": [
  {
   "cell_type": "code",
   "execution_count": 1,
   "id": "29fc5d46",
   "metadata": {},
   "outputs": [
    {
     "name": "stdout",
     "output_type": "stream",
     "text": [
      "Requirement already satisfied: numpy in c:\\users\\koven\\anaconda3\\lib\\site-packages (1.21.5)\n",
      "Note: you may need to restart the kernel to use updated packages.\n"
     ]
    }
   ],
   "source": [
    "pip install numpy"
   ]
  },
  {
   "cell_type": "code",
   "execution_count": 2,
   "id": "81119349",
   "metadata": {},
   "outputs": [
    {
     "name": "stdout",
     "output_type": "stream",
     "text": [
      "Requirement already satisfied: scikit-image in c:\\users\\koven\\anaconda3\\lib\\site-packages (0.19.2)\n",
      "Requirement already satisfied: pillow!=7.1.0,!=7.1.1,!=8.3.0,>=6.1.0 in c:\\users\\koven\\anaconda3\\lib\\site-packages (from scikit-image) (9.2.0)\n",
      "Requirement already satisfied: networkx>=2.2 in c:\\users\\koven\\anaconda3\\lib\\site-packages (from scikit-image) (2.8.4)\n",
      "Requirement already satisfied: packaging>=20.0 in c:\\users\\koven\\anaconda3\\lib\\site-packages (from scikit-image) (21.3)\n",
      "Requirement already satisfied: tifffile>=2019.7.26 in c:\\users\\koven\\anaconda3\\lib\\site-packages (from scikit-image) (2021.7.2)\n",
      "Requirement already satisfied: PyWavelets>=1.1.1 in c:\\users\\koven\\anaconda3\\lib\\site-packages (from scikit-image) (1.3.0)\n",
      "Requirement already satisfied: numpy>=1.17.0 in c:\\users\\koven\\anaconda3\\lib\\site-packages (from scikit-image) (1.21.5)\n",
      "Requirement already satisfied: imageio>=2.4.1 in c:\\users\\koven\\anaconda3\\lib\\site-packages (from scikit-image) (2.19.3)\n",
      "Requirement already satisfied: scipy>=1.4.1 in c:\\users\\koven\\anaconda3\\lib\\site-packages (from scikit-image) (1.9.1)\n",
      "Requirement already satisfied: pyparsing!=3.0.5,>=2.0.2 in c:\\users\\koven\\anaconda3\\lib\\site-packages (from packaging>=20.0->scikit-image) (3.0.9)\n",
      "Note: you may need to restart the kernel to use updated packages.\n"
     ]
    }
   ],
   "source": [
    "pip install scikit-image"
   ]
  },
  {
   "cell_type": "code",
   "execution_count": 3,
   "id": "f6447fae",
   "metadata": {},
   "outputs": [
    {
     "name": "stdout",
     "output_type": "stream",
     "text": [
      "Requirement already satisfied: imutils in c:\\users\\koven\\anaconda3\\lib\\site-packages (0.5.4)\n",
      "Note: you may need to restart the kernel to use updated packages.\n"
     ]
    }
   ],
   "source": [
    "pip install imutils"
   ]
  },
  {
   "cell_type": "code",
   "execution_count": 4,
   "id": "c276c51b",
   "metadata": {},
   "outputs": [
    {
     "name": "stdout",
     "output_type": "stream",
     "text": [
      "Requirement already satisfied: scikit-learn in c:\\users\\koven\\anaconda3\\lib\\site-packages (1.0.2)\n",
      "Requirement already satisfied: joblib>=0.11 in c:\\users\\koven\\anaconda3\\lib\\site-packages (from scikit-learn) (1.1.0)\n",
      "Requirement already satisfied: numpy>=1.14.6 in c:\\users\\koven\\anaconda3\\lib\\site-packages (from scikit-learn) (1.21.5)\n",
      "Requirement already satisfied: threadpoolctl>=2.0.0 in c:\\users\\koven\\anaconda3\\lib\\site-packages (from scikit-learn) (2.2.0)\n",
      "Requirement already satisfied: scipy>=1.1.0 in c:\\users\\koven\\anaconda3\\lib\\site-packages (from scikit-learn) (1.9.1)\n",
      "Note: you may need to restart the kernel to use updated packages.\n"
     ]
    }
   ],
   "source": [
    "pip install scikit-learn"
   ]
  },
  {
   "cell_type": "code",
   "execution_count": 5,
   "id": "7947e8ee",
   "metadata": {},
   "outputs": [
    {
     "name": "stdout",
     "output_type": "stream",
     "text": [
      "Requirement already satisfied: opencv-contrib-python in c:\\users\\koven\\anaconda3\\lib\\site-packages (4.6.0.66)\n",
      "Requirement already satisfied: numpy>=1.19.3 in c:\\users\\koven\\anaconda3\\lib\\site-packages (from opencv-contrib-python) (1.21.5)\n",
      "Note: you may need to restart the kernel to use updated packages.\n"
     ]
    }
   ],
   "source": [
    "pip install opencv-contrib-python"
   ]
  },
  {
   "cell_type": "code",
   "execution_count": 6,
   "id": "e98b45ea",
   "metadata": {},
   "outputs": [
    {
     "name": "stdout",
     "output_type": "stream",
     "text": [
      "Requirement already satisfied: Flask in c:\\users\\koven\\anaconda3\\lib\\site-packages (1.1.2)\n",
      "Requirement already satisfied: Jinja2>=2.10.1 in c:\\users\\koven\\anaconda3\\lib\\site-packages (from Flask) (2.11.3)\n",
      "Requirement already satisfied: click>=5.1 in c:\\users\\koven\\anaconda3\\lib\\site-packages (from Flask) (8.0.4)\n",
      "Requirement already satisfied: itsdangerous>=0.24 in c:\\users\\koven\\anaconda3\\lib\\site-packages (from Flask) (2.0.1)\n",
      "Requirement already satisfied: Werkzeug>=0.15 in c:\\users\\koven\\anaconda3\\lib\\site-packages (from Flask) (2.0.3)\n",
      "Requirement already satisfied: colorama in c:\\users\\koven\\anaconda3\\lib\\site-packages (from click>=5.1->Flask) (0.4.5)\n",
      "Requirement already satisfied: MarkupSafe>=0.23 in c:\\users\\koven\\anaconda3\\lib\\site-packages (from Jinja2>=2.10.1->Flask) (2.0.1)\n",
      "Note: you may need to restart the kernel to use updated packages.\n"
     ]
    }
   ],
   "source": [
    "pip install Flask"
   ]
  },
  {
   "cell_type": "code",
   "execution_count": 7,
   "id": "c6543973",
   "metadata": {},
   "outputs": [],
   "source": [
    "from sklearn.ensemble import RandomForestClassifier\n",
    "from sklearn.preprocessing import LabelEncoder\n",
    "from sklearn.metrics import confusion_matrix\n",
    "from skimage import feature\n",
    "from imutils import build_montages\n",
    "from imutils import paths\n",
    "import numpy as np\n",
    "import cv2\n",
    "import os\n",
    "import pickle"
   ]
  },
  {
   "cell_type": "code",
   "execution_count": 8,
   "id": "31816b9f",
   "metadata": {},
   "outputs": [],
   "source": [
    "trainingPath=r\"Downloads\\Dataset\\spiral\\training\"\n",
    "testingPath=r\"Downloads\\Dataset\\spiral\\testing\""
   ]
  },
  {
   "cell_type": "code",
   "execution_count": 9,
   "id": "f1a67bf1",
   "metadata": {},
   "outputs": [
    {
     "name": "stdout",
     "output_type": "stream",
     "text": [
      "Downloads\\Dataset\\spiral\\training\n"
     ]
    }
   ],
   "source": [
    "print(trainingPath)"
   ]
  },
  {
   "cell_type": "code",
   "execution_count": 10,
   "id": "91fca4b3",
   "metadata": {},
   "outputs": [],
   "source": [
    "def load_split(path):\n",
    "  imagePaths=list(paths.list_images(path))\n",
    "  data=[]\n",
    "  labels=[]\n",
    "  for imagePath in imagePaths:\n",
    "    label=imagePath.split(os.path.sep)[-2]\n",
    "    image=cv2.imread(imagePath)\n",
    "    image=cv2.cvtColor(image,cv2.COLOR_BGR2GRAY)\n",
    "    image=cv2.resize(image,(200,200))\n",
    "    image=cv2.threshold(image,0,255,cv2.THRESH_BINARY_INV|cv2.THRESH_OTSU)[1]\n",
    "    features=quantify_image(image)\n",
    "    data.append(features)\n",
    "    labels.append(label)\n",
    "    return(np.array(data),np.array(labels))"
   ]
  },
  {
   "cell_type": "code",
   "execution_count": 11,
   "id": "e74bc038",
   "metadata": {},
   "outputs": [],
   "source": [
    "def quantify_image(image):\n",
    "    features=feature.hog(image,orientations=9,pixels_per_cell=(10,10),cells_per_block=(2,2),transform_sqrt=True,block_norm=\"L1\")\n",
    "    return features"
   ]
  },
  {
   "cell_type": "code",
   "execution_count": 12,
   "id": "59a00be4",
   "metadata": {},
   "outputs": [
    {
     "name": "stdout",
     "output_type": "stream",
     "text": [
      "[INFO] loading data...\n"
     ]
    }
   ],
   "source": [
    "print(\"[INFO] loading data...\")\n",
    "(X_train,y_train)=load_split(trainingPath)\n",
    "(X_test,y_test)=load_split(testingPath)"
   ]
  },
  {
   "cell_type": "code",
   "execution_count": 13,
   "id": "ee3f49dc",
   "metadata": {},
   "outputs": [
    {
     "name": "stdout",
     "output_type": "stream",
     "text": [
      "(1, 12996) (1,)\n"
     ]
    }
   ],
   "source": [
    "le=LabelEncoder()\n",
    "y_train=le.fit_transform(y_train)\n",
    "y_test=le.fit_transform(y_test)\n",
    "print(X_train.shape,y_train.shape)"
   ]
  },
  {
   "cell_type": "code",
   "execution_count": null,
   "id": "5e6206f6",
   "metadata": {},
   "outputs": [],
   "source": []
  },
  {
   "cell_type": "code",
   "execution_count": 14,
   "id": "5659296a",
   "metadata": {},
   "outputs": [
    {
     "name": "stdout",
     "output_type": "stream",
     "text": [
      "[INFO] training model\n"
     ]
    },
    {
     "data": {
      "text/plain": [
       "RandomForestClassifier()"
      ]
     },
     "execution_count": 14,
     "metadata": {},
     "output_type": "execute_result"
    }
   ],
   "source": [
    "print(\"[INFO] training model\")\n",
    "model=RandomForestClassifier(n_estimators=100)\n",
    "model.fit(X_train,y_train)"
   ]
  },
  {
   "cell_type": "code",
   "execution_count": 15,
   "id": "1a236964",
   "metadata": {},
   "outputs": [],
   "source": [
    "testingPaths=list(paths.list_images(testingPath))\n",
    "idxs=np.arange(0,len(testingPaths))\n",
    "idxs=np.random.choice(idxs,size=(25),replace=False)\n",
    "images=[]"
   ]
  },
  {
   "cell_type": "code",
   "execution_count": 16,
   "id": "e1671e95",
   "metadata": {},
   "outputs": [],
   "source": [
    "for i in idxs:\n",
    "    image = cv2.imread(testingPaths[i])\n",
    "    output = image.copy()\n",
    "    output = cv2.resize(output,(128,128))\n",
    "    image = cv2.cvtColor(image, cv2.COLOR_BGR2GRAY)\n",
    "    image = cv2.resize(image,(200,200))\n",
    "    image = cv2.threshold(image,0,255,cv2.THRESH_BINARY_INV| cv2.THRESH_OTSU)[1]"
   ]
  },
  {
   "cell_type": "code",
   "execution_count": 17,
   "id": "e0619a00",
   "metadata": {},
   "outputs": [],
   "source": [
    "features = quantify_image(image)\n",
    "preds = model.predict([features])\n",
    "label = le.inverse_transform(preds)[0]\n",
    "color = (0,255,0)if label ==\"healthy\" else (0,0,255)\n",
    "cv2.putText(output,label,(3,20),cv2.FONT_HERSHEY_SIMPLEX,0.5,color,2)\n",
    "images.append(output)"
   ]
  },
  {
   "cell_type": "code",
   "execution_count": null,
   "id": "d0b80f56",
   "metadata": {},
   "outputs": [],
   "source": [
    "montage = build_montages(images,(128,128),(5,5))[0]\n",
    "cv2.imshow(\"Output\",montage)\n",
    "cv2.waitKey(0)"
   ]
  },
  {
   "cell_type": "code",
   "execution_count": null,
   "id": "9e118d5f",
   "metadata": {},
   "outputs": [],
   "source": [
    "predictions = model.predict(X_test)\n",
    "cm=confusion_matrix(y_test, predictions).flatten()\n",
    "print(cm)\n",
    "(tn,fp,fn,tp)=cm\n",
    "accuracy = (tp + tn)/float(cm.sum())\n",
    "print(accuracy)"
   ]
  },
  {
   "cell_type": "code",
   "execution_count": null,
   "id": "9971682f",
   "metadata": {},
   "outputs": [],
   "source": [
    "pickle.dump(model,open('parkinson.pkl','wb'))"
   ]
  },
  {
   "cell_type": "code",
   "execution_count": null,
   "id": "ed53d10b",
   "metadata": {},
   "outputs": [],
   "source": [
    "import pickle \n",
    "import cv2 from skimage \n",
    "import feature from flask \n",
    "import Flask, request, render_template \n",
    "import os.path"
   ]
  },
  {
   "cell_type": "code",
   "execution_count": null,
   "id": "7def57d1",
   "metadata": {},
   "outputs": [],
   "source": [
    "@app.route(\"/\")\n",
    "def about():\n",
    "    return render_template(\"about.html\") "
   ]
  },
  {
   "cell_type": "code",
   "execution_count": null,
   "id": "9459803d",
   "metadata": {},
   "outputs": [],
   "source": [
    "@app.route(\"/about\") \n",
    "def home(): \n",
    "    return render_template(\"about.html\") "
   ]
  },
  {
   "cell_type": "code",
   "execution_count": null,
   "id": "6180d484",
   "metadata": {},
   "outputs": [],
   "source": [
    "@app.route(\"/info\")\n",
    "def information():\n",
    "    return render_template(\"info.html\")\n",
    "@app.route(\"/upload\")  \n",
    "def test(): \n",
    "    return render_template(\"index.html\") "
   ]
  },
  {
   "cell_type": "code",
   "execution_count": null,
   "id": "2b4bfd2c",
   "metadata": {},
   "outputs": [],
   "source": [
    "@app.route('/predict', methods=['GET', 'POST']) \n",
    "def upload(): \n",
    "    if request.method == 'POST':\n",
    "        f=request.files [ 'file'] \n",
    "        basepath=os.path.dirname(__file__)\n",
    "        filepath=os.path.join(basepath, \"uploads\", f.filename)\n",
    "        f.save(filepath)\n",
    "        print(\"[INFO] Loading model...\")\n",
    "        model = pickle.loads (open('parkinson.pkl', \"rb\").read())\n",
    "        image= cv2.imread(filepath) \n",
    "        output =image.copy() \n",
    "        output= cv2.resize(output, (128, 128)) \n",
    "        image = cv2.cvtColor(image, cv2.COLOR_BGR2GRAY)\n",
    "        image= cv2.resize(image, (200, 200)) \n",
    "        image=cv2.threshold (image, 0, 255, cv2.THRESH_BINARY INV | cv2.THRESH_OTSU) [1]\n",
    "        features = feature.hog(image, orientations=9,pixels_per_cell-(10, 10), cells_per_block=(2, 2),transform_sqrt=True, block_norm=\"L1\") preds model.predict([features])\n",
    "        print(preds)\n",
    "        1s=[\"healthy\", \"parkinson\"]\n",
    "        result = ls[preds[0]]"
   ]
  },
  {
   "cell_type": "code",
   "execution_count": null,
   "id": "b9b56a2c",
   "metadata": {},
   "outputs": [],
   "source": [
    "        color = (0, 255, 0) if result == \"healthy\" else (0, 0, 255)\n",
    "        cv2.putText(output, result, (3, 20), cv2.FONT_HERSHEY_SIMPLEX, 0.5, color, 2) \n",
    "        cv2.imshow(\"Output\", output) \n",
    "        cv2.waitKey(0) \n",
    "        return result \n",
    "    return None\n",
    "\n"
   ]
  },
  {
   "cell_type": "code",
   "execution_count": null,
   "id": "3256b025",
   "metadata": {},
   "outputs": [],
   "source": [
    "if name _main__\": app.run(host='0.0.0.0', port=8000, debug=False)"
   ]
  }
 ],
 "metadata": {
  "kernelspec": {
   "display_name": "Python 3 (ipykernel)",
   "language": "python",
   "name": "python3"
  },
  "language_info": {
   "codemirror_mode": {
    "name": "ipython",
    "version": 3
   },
   "file_extension": ".py",
   "mimetype": "text/x-python",
   "name": "python",
   "nbconvert_exporter": "python",
   "pygments_lexer": "ipython3",
   "version": "3.9.13"
  }
 },
 "nbformat": 4,
 "nbformat_minor": 5
}
